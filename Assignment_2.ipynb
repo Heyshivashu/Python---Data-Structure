{
  "nbformat": 4,
  "nbformat_minor": 0,
  "metadata": {
    "colab": {
      "provenance": []
    },
    "kernelspec": {
      "name": "python3",
      "display_name": "Python 3"
    },
    "language_info": {
      "name": "python"
    }
  },
  "cells": [
    {
      "cell_type": "markdown",
      "source": [
        "## Name: Shivanshu Singh Parihar\n",
        "# Batch : September 2024\n",
        "# Assignment Date: 08 Oct 2024\n",
        "# Assignment : Python - Data Structure\n",
        "\n",
        "###                                 Assignment -2\n",
        "\n",
        "\n",
        "**1. Discuss string slicing and provide examples?**\n",
        "\n",
        "Ans: String slicing in Python allows you to extract a portion of a string by specifying a start and end index. It uses the syntax string [start:end], where:\n",
        "\n",
        "*   start: The index where the slice begins (inclusive).\n",
        "*   end: The index where the slice ends (exclusive).\n",
        "*   step: The interval between each index in the slice (optional).\n"
      ],
      "metadata": {
        "id": "PsoE2QMMb_Ou"
      }
    },
    {
      "cell_type": "code",
      "source": [
        "phrase = \"Python Programming\"\n",
        "substring = phrase[7:18]\n",
        "print(substring)"
      ],
      "metadata": {
        "colab": {
          "base_uri": "https://localhost:8080/"
        },
        "id": "7TyE0Loddwvd",
        "outputId": "05a8bd91-3df6-43f0-8fb0-e2801ff848a2"
      },
      "execution_count": null,
      "outputs": [
        {
          "output_type": "stream",
          "name": "stdout",
          "text": [
            "Programming\n"
          ]
        }
      ]
    },
    {
      "cell_type": "code",
      "execution_count": null,
      "metadata": {
        "colab": {
          "base_uri": "https://localhost:8080/"
        },
        "id": "l0fyEljmbAIk",
        "outputId": "7a754faf-e5d4-4c4c-d730-b1577f8e42b9"
      },
      "outputs": [
        {
          "output_type": "stream",
          "name": "stdout",
          "text": [
            "name shivanshu ansh mneshah uhsnavihs si eman ym\n"
          ]
        }
      ],
      "source": [
        "my_string = \"my name is shivanshu\"\n",
        "sliced1 = my_string[3:7]\n",
        "sliced2 = my_string[11:]\n",
        "sliced3 = my_string[-5:-1]\n",
        "sliced4 = my_string[::3]\n",
        "reversed_string = my_string[::-1]\n",
        "\n",
        "print(sliced1,\n",
        "      sliced2,\n",
        "      sliced3,\n",
        "      sliced4,\n",
        "      reversed_string)"
      ]
    },
    {
      "cell_type": "markdown",
      "source": [
        "**2. Explain the key features of lists in Python.**\n",
        "\n",
        "Ans: Lists in Python are versatile and widely used data structures. Lists in Python are ordered, mutable and can contain items of different types at the same time. Each item in a Python list also has an associated index, where the first item's index is 0 and ascends accordingly for each following item.Here are some key features of Lists are :\n",
        "\n",
        "*   **Ordered:** Lists maintain the order of elements, meaning the position of each element is preserved. You can access elements by their index.\n",
        "\n",
        "*   **Mutable:** Lists are mutable, allowing you to modify them after creation. You can change, add, or remove elements.\n",
        "\n",
        "*   **Heterogeneous:** Lists can contain elements of different data types, including integers, floats, strings, and even other lists.\n",
        "\n",
        "*   **Dynamic Size:** Lists can grow and shrink in size as you add or remove elements. There's no need to declare a fixed size when creating a list.\n",
        "\n",
        "*   **Versatile Methods:** Python provides a variety of built-in methods for lists, such as .append(), .remove(), .pop(), .sort(), and .reverse(), making it easy to manipulate the list.\n",
        "\n",
        "*   **Nested Lists:** Lists can contain other lists as elements, allowing the creation of complex data structures like matrices.\n",
        "\n",
        "*   **Support for Slicing:** You can use slicing to access a range of elements in a list, just like with strings.\n"
      ],
      "metadata": {
        "id": "eOC2DhAaet-M"
      }
    },
    {
      "cell_type": "code",
      "source": [
        "shivanshu_list = [1, \"hello\", 3.14, [2, 3]]\n",
        "shivanshu_list.append(5)\n",
        "print(shivanshu_list)\n",
        "print(shivanshu_list[1])\n",
        "print(shivanshu_list[3][1])"
      ],
      "metadata": {
        "colab": {
          "base_uri": "https://localhost:8080/"
        },
        "id": "QWjkH3zggA9-",
        "outputId": "53a1eae4-71c6-4053-96e3-ea04342dcb56"
      },
      "execution_count": null,
      "outputs": [
        {
          "output_type": "stream",
          "name": "stdout",
          "text": [
            "[1, 'hello', 3.14, [2, 3], 5]\n",
            "hello\n",
            "3\n"
          ]
        }
      ]
    },
    {
      "cell_type": "markdown",
      "source": [
        "**3. Describe how to access, modify, and delete elements in a list with examples.**\n",
        "\n",
        "Ans: Accessing, changing, and removing items in a list in Python is easy.\n",
        "*   **Accessing Elements :**\n",
        "We can get an item from a list by its position (index). In Python we uses zero-based indexing, which means the first item is at index 0.\n"
      ],
      "metadata": {
        "id": "GamryX57gwOt"
      }
    },
    {
      "cell_type": "code",
      "source": [
        "Accessing_Elements = [10, 20, 30, 40, 50]\n",
        "first_value = Accessing_Elements[0]\n",
        "next_value = Accessing_Elements[2]\n",
        "\n",
        "print(first_value, next_value)"
      ],
      "metadata": {
        "colab": {
          "base_uri": "https://localhost:8080/"
        },
        "id": "sjinMGnni9Mg",
        "outputId": "f5ed9cfb-84cf-4040-b8c2-b21f557dd38a"
      },
      "execution_count": null,
      "outputs": [
        {
          "output_type": "stream",
          "name": "stdout",
          "text": [
            "10 30\n"
          ]
        }
      ]
    },
    {
      "cell_type": "markdown",
      "source": [
        "*   **Modifying Elements :**\n",
        "We can change an item in a list by assigning a new value to its index."
      ],
      "metadata": {
        "id": "nG9n0Iy2jqmH"
      }
    },
    {
      "cell_type": "code",
      "source": [
        "Modifying_Elements = [10, 20, 30, 40, 50]\n",
        "Modifying_Elements[1] = 25   #we uses zero indexing, that means [1] element is 20.\n",
        "print(Modifying_Elements)"
      ],
      "metadata": {
        "colab": {
          "base_uri": "https://localhost:8080/"
        },
        "id": "enbwNj6Ej-pT",
        "outputId": "14588150-bd31-4058-ed01-3490e49ebb31"
      },
      "execution_count": null,
      "outputs": [
        {
          "output_type": "stream",
          "name": "stdout",
          "text": [
            "[10, 25, 30, 40, 50]\n"
          ]
        }
      ]
    },
    {
      "cell_type": "markdown",
      "source": [
        "*   **Deleting Elements :**\n",
        "We can remove or delete items from a list in a different ways, that are by using del, .remove(), .pop()\n",
        "*   Using del: This will removes an item at a specific index."
      ],
      "metadata": {
        "id": "uyTaImU3k2yX"
      }
    },
    {
      "cell_type": "code",
      "source": [
        "Deleting_Elements = [10, 20, 30, 40, 50]\n",
        "del Deleting_Elements[1]\n",
        "print(Deleting_Elements)"
      ],
      "metadata": {
        "colab": {
          "base_uri": "https://localhost:8080/"
        },
        "id": "GdnUWyqZmEwJ",
        "outputId": "fa1deb6d-ebf1-4691-e3c7-1625674b02ca"
      },
      "execution_count": null,
      "outputs": [
        {
          "output_type": "stream",
          "name": "stdout",
          "text": [
            "[10, 30, 40, 50]\n"
          ]
        }
      ]
    },
    {
      "cell_type": "markdown",
      "source": [
        "*   Using .remove(): This will removes the first occurrence of a specific value."
      ],
      "metadata": {
        "id": "2uCDSkrUmkHS"
      }
    },
    {
      "cell_type": "code",
      "source": [
        "Deleting_Elements = [10, 20, 30, 40, 50]\n",
        "Deleting_Elements.remove(40)\n",
        "print(Deleting_Elements)"
      ],
      "metadata": {
        "colab": {
          "base_uri": "https://localhost:8080/"
        },
        "id": "duyE8S_9m0l3",
        "outputId": "c017558a-ab3d-4993-c963-de5c135a2c2f"
      },
      "execution_count": null,
      "outputs": [
        {
          "output_type": "stream",
          "name": "stdout",
          "text": [
            "[10, 20, 30, 50]\n"
          ]
        }
      ]
    },
    {
      "cell_type": "markdown",
      "source": [
        "*   Using .pop(): This will removes the last item and returns it."
      ],
      "metadata": {
        "id": "vw6WHRE4nEbD"
      }
    },
    {
      "cell_type": "code",
      "source": [
        "Deleting_Elements = [10, 20, 30, 40, 50]\n",
        "last_item = Deleting_Elements.pop()\n",
        "print(last_item)\n",
        "print(Deleting_Elements)"
      ],
      "metadata": {
        "colab": {
          "base_uri": "https://localhost:8080/"
        },
        "id": "lWQue90anUnT",
        "outputId": "f51a25e7-e460-4528-e1a2-c46bb06095ee"
      },
      "execution_count": null,
      "outputs": [
        {
          "output_type": "stream",
          "name": "stdout",
          "text": [
            "50\n",
            "[10, 20, 30, 40]\n"
          ]
        }
      ]
    },
    {
      "cell_type": "markdown",
      "source": [
        "**4. Compare and contrast tuples and lists with examples.**\n",
        "\n",
        "Ans: Tuples and lists are both used to store collections of items in Python, but they have some important differences.\n",
        "*   **Mutability**\n",
        "*  Lists are Mutable, means we can change it after it created.\n",
        "*  Tuples are Immutable, means once we create a tuple, we cannot make changes."
      ],
      "metadata": {
        "id": "LLjM-gltnxWc"
      }
    },
    {
      "cell_type": "code",
      "source": [
        "my_list = [1, 2, 3]\n",
        "my_list[1] = 5\n",
        "my_list.append(4)\n",
        "print(my_list)"
      ],
      "metadata": {
        "colab": {
          "base_uri": "https://localhost:8080/"
        },
        "id": "U-ZLQ5frpwtp",
        "outputId": "d5cb8a35-90d8-4699-9a93-2096c4082f08"
      },
      "execution_count": null,
      "outputs": [
        {
          "output_type": "stream",
          "name": "stdout",
          "text": [
            "[1, 5, 3, 4]\n"
          ]
        }
      ]
    },
    {
      "cell_type": "code",
      "source": [
        "my_tuple = (1, 2, 3)\n",
        "my_tuple[1] = 5                          # This is not allowed in tuple\n",
        "print(my_tuple)"
      ],
      "metadata": {
        "colab": {
          "base_uri": "https://localhost:8080/",
          "height": 176
        },
        "id": "ob9UBqFTp4J1",
        "outputId": "0165b970-1aba-4357-c9fa-ef618c606263"
      },
      "execution_count": null,
      "outputs": [
        {
          "output_type": "error",
          "ename": "TypeError",
          "evalue": "'tuple' object does not support item assignment",
          "traceback": [
            "\u001b[0;31m---------------------------------------------------------------------------\u001b[0m",
            "\u001b[0;31mTypeError\u001b[0m                                 Traceback (most recent call last)",
            "\u001b[0;32m<ipython-input-15-128d8802e909>\u001b[0m in \u001b[0;36m<cell line: 2>\u001b[0;34m()\u001b[0m\n\u001b[1;32m      1\u001b[0m \u001b[0mmy_tuple\u001b[0m \u001b[0;34m=\u001b[0m \u001b[0;34m(\u001b[0m\u001b[0;36m1\u001b[0m\u001b[0;34m,\u001b[0m \u001b[0;36m2\u001b[0m\u001b[0;34m,\u001b[0m \u001b[0;36m3\u001b[0m\u001b[0;34m)\u001b[0m\u001b[0;34m\u001b[0m\u001b[0;34m\u001b[0m\u001b[0m\n\u001b[0;32m----> 2\u001b[0;31m \u001b[0mmy_tuple\u001b[0m\u001b[0;34m[\u001b[0m\u001b[0;36m1\u001b[0m\u001b[0;34m]\u001b[0m \u001b[0;34m=\u001b[0m \u001b[0;36m5\u001b[0m                          \u001b[0;31m# This is not allowed in tuple\u001b[0m\u001b[0;34m\u001b[0m\u001b[0;34m\u001b[0m\u001b[0m\n\u001b[0m\u001b[1;32m      3\u001b[0m \u001b[0mprint\u001b[0m\u001b[0;34m(\u001b[0m\u001b[0mmy_tuple\u001b[0m\u001b[0;34m)\u001b[0m\u001b[0;34m\u001b[0m\u001b[0;34m\u001b[0m\u001b[0m\n",
            "\u001b[0;31mTypeError\u001b[0m: 'tuple' object does not support item assignment"
          ]
        }
      ]
    },
    {
      "cell_type": "markdown",
      "source": [
        "*   **Syntax**\n",
        "*   Lists are defined using square brackets [].\n",
        "*   Tuples are defined using parentheses ()."
      ],
      "metadata": {
        "id": "SVXDt43-qK6b"
      }
    },
    {
      "cell_type": "code",
      "source": [
        "my_list = [1, 2, 3]\n",
        "my_tuple = (1, 2, 3)\n",
        "print(\"List is\", my_list, \"and\", \"Tuple is\", my_tuple)"
      ],
      "metadata": {
        "colab": {
          "base_uri": "https://localhost:8080/"
        },
        "id": "JwARfQyGq6bq",
        "outputId": "4ef21149-65ab-4d13-dddb-3d0e68144292"
      },
      "execution_count": null,
      "outputs": [
        {
          "output_type": "stream",
          "name": "stdout",
          "text": [
            "List is [1, 2, 3] and Tuple is (1, 2, 3)\n"
          ]
        }
      ]
    },
    {
      "cell_type": "markdown",
      "source": [
        "*   **Performance**\n",
        "*   In Lists generally it have a bit more overhead because they are mutable, making them slightly it is slower for certain operations.\n",
        "\n",
        "*   Tuples are typically faster than lists because of their immutability, which can lead to performance improvements in some of the situations."
      ],
      "metadata": {
        "id": "_wXbpFN7rseN"
      }
    },
    {
      "cell_type": "markdown",
      "source": [
        "*   **Use Cases**\n",
        "*   Lists are used when we need a collection of items that may change after created. For Example I'm going to market and I have list of items. But after mother told me to add some more items.\n",
        "*   Tuples are useful for fixed collections of items and can be used as keys in dictionaries due to their immutability.\n",
        "\n",
        "we can simply understand by example of Mutability."
      ],
      "metadata": {
        "id": "XdoqVuVasU7U"
      }
    },
    {
      "cell_type": "code",
      "source": [
        "my_list = [\"Mango\", \"Bis-kit\", \"milk\"]\n",
        "my_list[1] = \"Chana-moong\"\n",
        "my_list.append(\"Almond\")\n",
        "print(my_list)"
      ],
      "metadata": {
        "colab": {
          "base_uri": "https://localhost:8080/"
        },
        "id": "o6ScKh6ct2w8",
        "outputId": "3bbd3183-6dea-478e-dc0a-1edb265b39bd"
      },
      "execution_count": null,
      "outputs": [
        {
          "output_type": "stream",
          "name": "stdout",
          "text": [
            "['Mango', 'Chana-moong', 'milk', 'Almond']\n"
          ]
        }
      ]
    },
    {
      "cell_type": "code",
      "source": [
        "my_tuple = (\"Mango\", \"Bis-kit\", \"milk\")\n",
        "my_tuple[1] = \"Chana-moong\"                         # This is not allowed in tuple\n",
        "print(my_tuple)"
      ],
      "metadata": {
        "colab": {
          "base_uri": "https://localhost:8080/",
          "height": 176
        },
        "id": "mvxi_c1Yt7EM",
        "outputId": "5c953275-7ad1-4fad-af43-b361f6f7cf88"
      },
      "execution_count": null,
      "outputs": [
        {
          "output_type": "error",
          "ename": "TypeError",
          "evalue": "'tuple' object does not support item assignment",
          "traceback": [
            "\u001b[0;31m---------------------------------------------------------------------------\u001b[0m",
            "\u001b[0;31mTypeError\u001b[0m                                 Traceback (most recent call last)",
            "\u001b[0;32m<ipython-input-30-fb3ffd12d6c6>\u001b[0m in \u001b[0;36m<cell line: 2>\u001b[0;34m()\u001b[0m\n\u001b[1;32m      1\u001b[0m \u001b[0mmy_tuple\u001b[0m \u001b[0;34m=\u001b[0m \u001b[0;34m(\u001b[0m\u001b[0;34m\"Mango\"\u001b[0m\u001b[0;34m,\u001b[0m \u001b[0;34m\"Bis-kit\"\u001b[0m\u001b[0;34m,\u001b[0m \u001b[0;34m\"milk\"\u001b[0m\u001b[0;34m)\u001b[0m\u001b[0;34m\u001b[0m\u001b[0;34m\u001b[0m\u001b[0m\n\u001b[0;32m----> 2\u001b[0;31m \u001b[0mmy_tuple\u001b[0m\u001b[0;34m[\u001b[0m\u001b[0;36m1\u001b[0m\u001b[0;34m]\u001b[0m \u001b[0;34m=\u001b[0m \u001b[0;34m\"Chana-moong\"\u001b[0m                         \u001b[0;31m# This is not allowed in tuple\u001b[0m\u001b[0;34m\u001b[0m\u001b[0;34m\u001b[0m\u001b[0m\n\u001b[0m\u001b[1;32m      3\u001b[0m \u001b[0mprint\u001b[0m\u001b[0;34m(\u001b[0m\u001b[0mmy_tuple\u001b[0m\u001b[0;34m)\u001b[0m\u001b[0;34m\u001b[0m\u001b[0;34m\u001b[0m\u001b[0m\n",
            "\u001b[0;31mTypeError\u001b[0m: 'tuple' object does not support item assignment"
          ]
        }
      ]
    },
    {
      "cell_type": "markdown",
      "source": [
        "*   **Built-in methods**\n",
        "*   Lists have many built-in methods for adding, removing, and modifying elements, such as .append(), .remove(), and .pop() etc.\n",
        "*   Tuples have fewer methods because they can’t be changed due to immutability. We mainly use .count() and .index().\n"
      ],
      "metadata": {
        "id": "tEMsiS1WvkxN"
      }
    },
    {
      "cell_type": "code",
      "source": [
        "my_list = [10, 20, 30]\n",
        "my_list[1] = 25  # Modifying the list\n",
        "my_list.append(40)  # Adding to the list\n",
        "print(my_list)  # Output: [10, 25, 30, 40]"
      ],
      "metadata": {
        "colab": {
          "base_uri": "https://localhost:8080/"
        },
        "id": "4HacRB2ewLe7",
        "outputId": "d083de79-eba1-41e4-834b-799131b362cc"
      },
      "execution_count": null,
      "outputs": [
        {
          "output_type": "stream",
          "name": "stdout",
          "text": [
            "[10, 25, 30, 40]\n"
          ]
        }
      ]
    },
    {
      "cell_type": "code",
      "source": [
        "my_tuple = (\"Shivanshu\", \"Alice\", \"Bob\", \"Shivanshu\", \"Eve\")\n",
        "\n",
        "count_shivanshu = my_tuple.count(\"Shivanshu\")\n",
        "print(f\"'Shivanshu' occurs {count_shivanshu} times in the tuple.\")\n",
        "\n",
        "index_shivanshu = my_tuple.index(\"Shivanshu\")\n",
        "print(f\"The first occurrence of 'Shivanshu' is at index {index_shivanshu}.\")"
      ],
      "metadata": {
        "colab": {
          "base_uri": "https://localhost:8080/"
        },
        "id": "HF5fBPgKxN_r",
        "outputId": "9fe37f41-6ab4-49c2-a98a-f203e1575288"
      },
      "execution_count": null,
      "outputs": [
        {
          "output_type": "stream",
          "name": "stdout",
          "text": [
            "'Shivanshu' occurs 2 times in the tuple.\n",
            "The first occurrence of 'Shivanshu' is at index 0.\n"
          ]
        }
      ]
    },
    {
      "cell_type": "markdown",
      "source": [
        "**5. Describe the key features of sets and provide examples of their use.**\n",
        "\n",
        "Ans: In Python, a set is a built-in data type that represents an unordered collection of unique elements. Sets are fundamental mathematical concepts that have several key features:\n",
        "\n",
        "*   **Unordered Collection:** Sets do not have a specific order. For example, the set {1,2,3} is the same as {3,2,1}.\n",
        "\n",
        "\n"
      ],
      "metadata": {
        "id": "vlGbH5bWxagk"
      }
    },
    {
      "cell_type": "code",
      "source": [
        "set1 = {1, 2, 3}\n",
        "set2 = {3, 2, 1}\n",
        "print(set1 == set2) # Demonstrating that they are equal despite order"
      ],
      "metadata": {
        "colab": {
          "base_uri": "https://localhost:8080/"
        },
        "id": "c97x0ZSxpG56",
        "outputId": "92b06a17-5c54-49f9-b0bc-f2e43ecbddcd"
      },
      "execution_count": null,
      "outputs": [
        {
          "output_type": "stream",
          "name": "stdout",
          "text": [
            "True\n"
          ]
        }
      ]
    },
    {
      "cell_type": "markdown",
      "source": [
        "*   **Uniqueness:** Elements in a set are unique. For instance,\n",
        "{1,2,2,3} is equivalent to {1,2,3}."
      ],
      "metadata": {
        "id": "vsZ4tYBepJEn"
      }
    },
    {
      "cell_type": "code",
      "source": [
        "# Creating a set with duplicate elements\n",
        "set_with_duplicates = {1, 2, 2, 3}\n",
        "\n",
        "# Displaying the set, duplicates are removed\n",
        "print(set_with_duplicates)"
      ],
      "metadata": {
        "colab": {
          "base_uri": "https://localhost:8080/"
        },
        "id": "rnnRYX1dpNjj",
        "outputId": "a4b052c6-7860-4ae2-f380-a6ff53feccfe"
      },
      "execution_count": null,
      "outputs": [
        {
          "output_type": "stream",
          "name": "stdout",
          "text": [
            "{1, 2, 3}\n"
          ]
        }
      ]
    },
    {
      "cell_type": "markdown",
      "source": [
        "*   **Membership:** We can determine if an element is a member of a set. For example, in the set\n",
        "{a,b,c}, the statement a∈{a,b,c} is true."
      ],
      "metadata": {
        "id": "qlAipHSvpOM_"
      }
    },
    {
      "cell_type": "code",
      "source": [
        "my_set = {'a', 'b', 'c'}\n",
        "\n",
        "# Checking membership\n",
        "print('a' in my_set)\n",
        "print('d' in my_set)"
      ],
      "metadata": {
        "colab": {
          "base_uri": "https://localhost:8080/"
        },
        "id": "3Dltq00ApbRE",
        "outputId": "9b08b6f6-73f3-453a-98f9-dd4983cab9ac"
      },
      "execution_count": null,
      "outputs": [
        {
          "output_type": "stream",
          "name": "stdout",
          "text": [
            "True\n",
            "False\n"
          ]
        }
      ]
    },
    {
      "cell_type": "markdown",
      "source": [
        "*   **Subset:** A set can contain subsets, which are sets formed from elements of the original set. For instance, if A={1,2,3}, then {1,2} is a subset of\n",
        "A."
      ],
      "metadata": {
        "id": "20XUF9GPpTDs"
      }
    },
    {
      "cell_type": "code",
      "source": [
        "A = {1, 2, 3}\n",
        "B = {1, 2}\n",
        "\n",
        "# Checking if B is a subset of A\n",
        "is_subset = B.issubset(A)\n",
        "print(is_subset)"
      ],
      "metadata": {
        "colab": {
          "base_uri": "https://localhost:8080/"
        },
        "id": "AZac5F38pcVd",
        "outputId": "c166b35b-bc4b-4cb7-bb92-9cbdfc7f3a7d"
      },
      "execution_count": null,
      "outputs": [
        {
          "output_type": "stream",
          "name": "stdout",
          "text": [
            "True\n"
          ]
        }
      ]
    },
    {
      "cell_type": "markdown",
      "source": [
        "*   **Union and Intersection:** Sets can be combined using operations like union and intersection. For example:\n",
        "\n",
        "*   Union: A∪B combines all unique elements from sets A and B.\n",
        "*   Intersection:A∩B includes only the elements common to both sets."
      ],
      "metadata": {
        "id": "zfbLfZ6EpcyM"
      }
    },
    {
      "cell_type": "code",
      "source": [
        "A = {1, 2, 3}\n",
        "B = {2, 3, 4}\n",
        "\n",
        "# Union\n",
        "union_set = A.union(B)\n",
        "print(\"Union:\", union_set)\n",
        "\n",
        "# Intersection\n",
        "intersection_set = A.intersection(B)\n",
        "print(\"Intersection:\", intersection_set)"
      ],
      "metadata": {
        "colab": {
          "base_uri": "https://localhost:8080/"
        },
        "id": "Fv3w9Qu4pjUQ",
        "outputId": "83c1f4cc-8ddc-4e4f-f65d-2291a9e089d1"
      },
      "execution_count": null,
      "outputs": [
        {
          "output_type": "stream",
          "name": "stdout",
          "text": [
            "Union: {1, 2, 3, 4}\n",
            "Intersection: {2, 3}\n"
          ]
        }
      ]
    },
    {
      "cell_type": "markdown",
      "source": [
        "*   **Empty Set:** The empty set, denoted ∅, contains no elements and is a subset of every set."
      ],
      "metadata": {
        "id": "ZDGrd-TcpgUX"
      }
    },
    {
      "cell_type": "code",
      "source": [
        "empty_set = set()\n",
        "# Checking if it's a subset of any set\n",
        "print(empty_set.issubset(A))"
      ],
      "metadata": {
        "colab": {
          "base_uri": "https://localhost:8080/"
        },
        "id": "Ok0md5-9pliY",
        "outputId": "d47008f4-3bae-4680-d57f-4b40c29f011c"
      },
      "execution_count": null,
      "outputs": [
        {
          "output_type": "stream",
          "name": "stdout",
          "text": [
            "True\n"
          ]
        }
      ]
    },
    {
      "cell_type": "markdown",
      "source": [
        "**6. Discuss the use cases of tuples and sets in Python programming.**\n",
        "\n",
        "Ans: Tuples and sets in Python are both versatile data structures, but they serve different purposes and have unique characteristics. Here are the some use cases for Tuples and sets are:\n",
        "*   **Tuples:**\n",
        "*   Immutable Collections: Tuples are immutable, meaning their contents cannot be changed after creation. This makes them ideal for storing data that should remain constant throughout the program. For example we have Addhar Card Number, Epfo Id, Unique code etc.\n",
        "\n"
      ],
      "metadata": {
        "id": "XEC-0dAQrfwf"
      }
    },
    {
      "cell_type": "code",
      "source": [
        "def get_employee_details():\n",
        "    aadhar_number = \"1234-5678-9101\"\n",
        "    employment_id = \"EMP12345\"\n",
        "    unique_code = \"XYZ2024\"\n",
        "    return (aadhar_number, employment_id, unique_code)\n",
        "employee_details = get_employee_details()\n",
        "print(\"Employee Details:\")\n",
        "print(f\"Aadhar Number: {employee_details[0]}\")\n",
        "print(f\"Employment ID: {employee_details[1]}\")\n",
        "print(f\"Unique Code: {employee_details[2]}\")"
      ],
      "metadata": {
        "colab": {
          "base_uri": "https://localhost:8080/"
        },
        "id": "xKAoHCwr2Lwo",
        "outputId": "1d20f19c-01b2-417c-8805-9143ba3b4715"
      },
      "execution_count": null,
      "outputs": [
        {
          "output_type": "stream",
          "name": "stdout",
          "text": [
            "Employee Details:\n",
            "Aadhar Number: 1234-5678-9101\n",
            "Employment ID: EMP12345\n",
            "Unique Code: XYZ2024\n"
          ]
        }
      ]
    },
    {
      "cell_type": "markdown",
      "source": [
        "*   Grouping Related Data:\n",
        "Tuples are useful when we need to group a fixed collection of data together, such as coordinates, database records, or key-value pairs."
      ],
      "metadata": {
        "id": "1yRZRIqe2xRl"
      }
    },
    {
      "cell_type": "code",
      "source": [
        "coordinates = (40.7128, -74.0060)\n",
        "print(coordinates)"
      ],
      "metadata": {
        "colab": {
          "base_uri": "https://localhost:8080/"
        },
        "id": "d6fs4aVk3QoI",
        "outputId": "f487b81b-c37f-4db2-a592-515216e2765a"
      },
      "execution_count": null,
      "outputs": [
        {
          "output_type": "stream",
          "name": "stdout",
          "text": [
            "(40.7128, -74.006)\n"
          ]
        }
      ]
    },
    {
      "cell_type": "markdown",
      "source": [
        "*   Fixed Data Structure: When we need a collection of data that won’t change, such as a record in a database, tuples provide a fixed-size structure."
      ],
      "metadata": {
        "id": "jxGIOiTw3z4E"
      }
    },
    {
      "cell_type": "code",
      "source": [
        "person_info = (\"John Doe\", 28, \"Engineer\")\n",
        "\n",
        "# Accessing tuple elements\n",
        "name = person_info[0]\n",
        "age = person_info[1]\n",
        "profession = person_info[2]\n",
        "\n",
        "print(\"Name:\", name)\n",
        "print(\"Age:\", age)\n",
        "print(\"Profession:\", profession)\n"
      ],
      "metadata": {
        "colab": {
          "base_uri": "https://localhost:8080/"
        },
        "id": "8R_MMfkY3-Wv",
        "outputId": "f0e86806-f859-4478-8e89-f835c834e350"
      },
      "execution_count": null,
      "outputs": [
        {
          "output_type": "stream",
          "name": "stdout",
          "text": [
            "Name: John Doe\n",
            "Age: 28\n",
            "Profession: Engineer\n"
          ]
        }
      ]
    },
    {
      "cell_type": "markdown",
      "source": [
        "*   Faster Access: Tuples, being immutable, are faster to access than lists. If performance is a concern and the data does not require modification, using tuples is beneficial."
      ],
      "metadata": {
        "id": "SIFQJktN4RmY"
      }
    },
    {
      "cell_type": "code",
      "source": [
        "import time\n",
        "\n",
        "start = time.time()\n",
        "list_example = [1, 2, 3, 4, 5]\n",
        "end = time.time()\n",
        "print(\"List creation time:\", end - start)"
      ],
      "metadata": {
        "colab": {
          "base_uri": "https://localhost:8080/"
        },
        "id": "bMtS_7Ex5o8a",
        "outputId": "6b3d009f-bfea-40e3-883d-7658ff3e7fda"
      },
      "execution_count": null,
      "outputs": [
        {
          "output_type": "stream",
          "name": "stdout",
          "text": [
            "List creation time: 9.822845458984375e-05\n"
          ]
        }
      ]
    },
    {
      "cell_type": "markdown",
      "source": [
        "*   Return Multiple Values: Tuples are often used to return multiple values from functions. This allows for clean, unpacked assignment in one line."
      ],
      "metadata": {
        "id": "OQc_rfNi4-R4"
      }
    },
    {
      "cell_type": "code",
      "source": [
        "def get_dimensions():\n",
        "    return (1920, 1080)\n",
        "\n",
        "width, height = get_dimensions()\n",
        "print(f\"Width: {width}, Height: {height}\")"
      ],
      "metadata": {
        "colab": {
          "base_uri": "https://localhost:8080/"
        },
        "id": "lr00YYFN5EaF",
        "outputId": "1b2cbb4e-ef1b-42a3-d952-f2bf70af1764"
      },
      "execution_count": null,
      "outputs": [
        {
          "output_type": "stream",
          "name": "stdout",
          "text": [
            "Width: 1920, Height: 1080\n"
          ]
        }
      ]
    },
    {
      "cell_type": "markdown",
      "source": [
        "*   Heterogeneous Data: Tuples can hold different data types. It has a verity of data into it.\n"
      ],
      "metadata": {
        "id": "8SQKt7yB5M_L"
      }
    },
    {
      "cell_type": "code",
      "source": [
        "person = (\"Shivanshu\", 30, 5.7)\n",
        "print(person)"
      ],
      "metadata": {
        "colab": {
          "base_uri": "https://localhost:8080/"
        },
        "id": "bQYsAY9Q5ZEN",
        "outputId": "dd8baa58-6898-435d-918e-4e89a73a420d"
      },
      "execution_count": null,
      "outputs": [
        {
          "output_type": "stream",
          "name": "stdout",
          "text": [
            "('Shivanshu', 30, 5.7)\n"
          ]
        }
      ]
    },
    {
      "cell_type": "markdown",
      "source": [
        "*   Dictionary Keys: Tuples can be used as keys in dictionaries because they are hashable means unlike lists. This is useful for creating composite keys."
      ],
      "metadata": {
        "id": "ZCCm5kuY5i7U"
      }
    },
    {
      "cell_type": "code",
      "source": [
        "location_data = {\n",
        "    (10, 20): \"Point A\",\n",
        "    (15, 25): \"Point B\"\n",
        "}\n",
        "print(location_data[(10, 20)])"
      ],
      "metadata": {
        "colab": {
          "base_uri": "https://localhost:8080/"
        },
        "id": "CrX_28yQ6s-R",
        "outputId": "f96f3ecc-b310-48c2-803e-43be2cfabb24"
      },
      "execution_count": null,
      "outputs": [
        {
          "output_type": "stream",
          "name": "stdout",
          "text": [
            "Point A\n"
          ]
        }
      ]
    },
    {
      "cell_type": "markdown",
      "source": [
        "*   **Sets**\n",
        "*   Unique Elements: Sets automatically handle duplicates, making them ideal for collections where uniqueness is a requirement. e.g. storing unique user IDs."
      ],
      "metadata": {
        "id": "4DMuZJ7-61Pc"
      }
    },
    {
      "cell_type": "code",
      "source": [
        "numbers = {1, 2, 2, 3, 4}\n",
        "print(numbers)"
      ],
      "metadata": {
        "id": "lglyXPTR8DF3",
        "colab": {
          "base_uri": "https://localhost:8080/"
        },
        "outputId": "a0f1c953-866c-4e69-8b15-f39a5ea96f82"
      },
      "execution_count": null,
      "outputs": [
        {
          "output_type": "stream",
          "name": "stdout",
          "text": [
            "{1, 2, 3, 4}\n"
          ]
        }
      ]
    },
    {
      "cell_type": "markdown",
      "source": [
        "*   Membership Testing:\n",
        "\n",
        "Sets provide average time complexity for membership tests. If we need to check whether an item exists in a collection frequently, using a set is much more efficient than a list.\n",
        "\n"
      ],
      "metadata": {
        "id": "ZmRZADaUyOS6"
      }
    },
    {
      "cell_type": "code",
      "source": [
        "fruits = {'apple', 'banana', 'orange'}\n",
        "if 'banana' in fruits:\n",
        "    print(\"Banana is in the set.\")\n",
        "else:\n",
        "    print(\"Banana is not in the set.\")"
      ],
      "metadata": {
        "colab": {
          "base_uri": "https://localhost:8080/"
        },
        "id": "LSo8urtBy5BI",
        "outputId": "32a3b7cb-e586-412d-e5f5-5665c3a24cb2"
      },
      "execution_count": null,
      "outputs": [
        {
          "output_type": "stream",
          "name": "stdout",
          "text": [
            "Banana is in the set.\n"
          ]
        }
      ]
    },
    {
      "cell_type": "markdown",
      "source": [
        "*   Removing Duplicates: When converting a list with potential duplicates into a set, you can easily remove duplicates."
      ],
      "metadata": {
        "id": "dphXaBx6zOw6"
      }
    },
    {
      "cell_type": "code",
      "source": [
        "my_list = [\"Shivanshu\", \"Ajay\", \"Guruji\", 3, \"Shivanshu\", \"Data\", \"Analytics\"]\n",
        "unique_items = set(my_list)\n",
        "print(unique_items)"
      ],
      "metadata": {
        "colab": {
          "base_uri": "https://localhost:8080/"
        },
        "id": "Ks6tgIilz4C6",
        "outputId": "c0a29010-48d3-4769-bf43-e331922b7e88"
      },
      "execution_count": null,
      "outputs": [
        {
          "output_type": "stream",
          "name": "stdout",
          "text": [
            "{3, 'Shivanshu', 'Data', 'Ajay', 'Analytics', 'Guruji'}\n"
          ]
        }
      ]
    },
    {
      "cell_type": "markdown",
      "source": [
        "*   Data Analysis: In data analysis tasks, sets can be used to quickly find common or differing elements between datasets, making them helpful for operations like finding common customers between two businesses."
      ],
      "metadata": {
        "id": "N85-EzOb0SBS"
      }
    },
    {
      "cell_type": "code",
      "source": [
        "data1 = {'apple', 'banana', 'cherry'}\n",
        "data2 = {'banana', 'dragonfruit', 'cherry'}\n",
        "\n",
        "# Finding common elements\n",
        "common = data1.intersection(data2)\n",
        "print(\"Common items:\", common)"
      ],
      "metadata": {
        "colab": {
          "base_uri": "https://localhost:8080/"
        },
        "id": "fgkF_3rA0ZgJ",
        "outputId": "3b4390ca-de77-4140-f06e-04003fc70d3d"
      },
      "execution_count": null,
      "outputs": [
        {
          "output_type": "stream",
          "name": "stdout",
          "text": [
            "Common items: {'cherry', 'banana'}\n"
          ]
        }
      ]
    },
    {
      "cell_type": "markdown",
      "source": [
        "*   Removing Unwanted Items: We can use set operations to filter out unwanted items from a collection. For instance, using set difference to exclude certain elements from a list."
      ],
      "metadata": {
        "id": "39rSH6wT0tbI"
      }
    },
    {
      "cell_type": "code",
      "source": [
        "all_items = {'apple', 'banana', 'cherry', 'date'}\n",
        "unwanted = {'banana', 'date'}\n",
        "\n",
        "# Removing unwanted items\n",
        "filtered_items = all_items.difference(unwanted)\n",
        "print(\"Filtered items:\", filtered_items)"
      ],
      "metadata": {
        "colab": {
          "base_uri": "https://localhost:8080/"
        },
        "id": "2UetkIwy06yl",
        "outputId": "ffd17754-27aa-4634-b452-d44f6b7b788c"
      },
      "execution_count": null,
      "outputs": [
        {
          "output_type": "stream",
          "name": "stdout",
          "text": [
            "Filtered items: {'cherry', 'apple'}\n"
          ]
        }
      ]
    },
    {
      "cell_type": "markdown",
      "source": [
        "**7.  Describe how to add, modify, and delete items in a dictionary with examples.**\n",
        "\n",
        "Ans: Dictionaries in Python are versatile data structures that store key-value pairs. Here's how to add, modify, and delete items in a dictionary.\n",
        "*   Adding Items: Assign a value to a new key.\n",
        "*   Modifying Items: Assign a new value to an existing key.\n",
        "*   Deleting Items: Use del or pop() to remove a key-value pair.\n",
        "\n",
        "**Adding Items** : You can add new key-value pairs to a dictionary simply by assigning a value to a new key.\n"
      ],
      "metadata": {
        "id": "3AAKYKrL1SoA"
      }
    },
    {
      "cell_type": "code",
      "source": [
        "my_dict = {'name': 'Shivanshu', 'age': 24}\n",
        "\n",
        "# Adding a new key-value pair\n",
        "my_dict['city'] = 'Raipur'\n",
        "print(my_dict)"
      ],
      "metadata": {
        "colab": {
          "base_uri": "https://localhost:8080/"
        },
        "id": "svdKSmGO2DMu",
        "outputId": "90bdf68d-42c9-4f32-c231-e0cc6558322b"
      },
      "execution_count": null,
      "outputs": [
        {
          "output_type": "stream",
          "name": "stdout",
          "text": [
            "{'name': 'Shivanshu', 'age': 24, 'city': 'Raipur'}\n"
          ]
        }
      ]
    },
    {
      "cell_type": "markdown",
      "source": [
        "**Modifying Items**: To modify an existing value, you can assign a new value to an existing key."
      ],
      "metadata": {
        "id": "9E-13che2IHY"
      }
    },
    {
      "cell_type": "code",
      "source": [
        "my_dict = {'name': 'Shivanshu', 'age': 24, 'City': 'Raipur'}\n",
        "my_dict['age'] = 23\n",
        "print(my_dict)"
      ],
      "metadata": {
        "colab": {
          "base_uri": "https://localhost:8080/"
        },
        "id": "l_WCl7fw2NtA",
        "outputId": "44b7da6c-fb12-49ed-ddb5-e6deff31380f"
      },
      "execution_count": null,
      "outputs": [
        {
          "output_type": "stream",
          "name": "stdout",
          "text": [
            "{'name': 'Shivanshu', 'age': 23, 'City': 'Raipur'}\n"
          ]
        }
      ]
    },
    {
      "cell_type": "markdown",
      "source": [
        "**Deleting Items**: You can delete items from a dictionary using the del statement or the pop() method."
      ],
      "metadata": {
        "id": "Ly7qv3n-2TE3"
      }
    },
    {
      "cell_type": "code",
      "source": [
        "my_dict = {'name': 'Shivanshu', 'age': 24, 'City': 'Raipur'}\n",
        "# Deleting a key-value pair using del\n",
        "del my_dict['City']\n",
        "print(my_dict)\n",
        "\n",
        "# Using pop to remove 'age' and get its value\n",
        "age = my_dict.pop('age')\n",
        "print(my_dict)\n",
        "print(\"Removed age:\", age)\n",
        "\n",
        "# Trying to pop a non-existent key with a default value\n",
        "unknown = my_dict.pop('city', 'Not Found')\n",
        "print(unknown)"
      ],
      "metadata": {
        "colab": {
          "base_uri": "https://localhost:8080/"
        },
        "id": "4lMfn4XO2aan",
        "outputId": "75b001a9-9bb9-444d-c283-8bdea052832c"
      },
      "execution_count": null,
      "outputs": [
        {
          "output_type": "stream",
          "name": "stdout",
          "text": [
            "{'name': 'Shivanshu', 'age': 24}\n",
            "{'name': 'Shivanshu'}\n",
            "Removed age: 24\n",
            "Not Found\n"
          ]
        }
      ]
    },
    {
      "cell_type": "markdown",
      "source": [
        "**8. Discuss the importance of dictionary keys being immutable and provide examples.**\n",
        "\n",
        "Ans: The requirement for dictionary keys to be immutable is vital for ensuring hashability, data integrity, consistency, preventing key conflicts, and optimizing performance. By enforcing this rule, Python dictionaries can operate efficiently and reliably, making them a robust choice for data storage and retrieval. In Python, dictionary keys must be immutable types. This requirement is crucial for several reasons:\n",
        "*   Importance of Immutable Keys\n",
        "\n",
        "**Hashability:**: Dictionary keys are hashed to enable fast access to values. Immutable types, such as strings, numbers, and tuples, have a fixed hash value, which means that their hash does not change during their lifetime. This stability is essential for maintaining the integrity of the dictionary."
      ],
      "metadata": {
        "id": "dL0BtRYj4hL_"
      }
    },
    {
      "cell_type": "code",
      "source": [
        "my_dict = {\n",
        "    'name': 'Shivanshu'\n",
        "}\n",
        "\n",
        "# The hash value for 'name' will remain the same\n",
        "print(hash('name'))"
      ],
      "metadata": {
        "colab": {
          "base_uri": "https://localhost:8080/"
        },
        "id": "dzqQH_9Z5Ni7",
        "outputId": "0711c140-31c3-4024-a27a-0ff3318525b5"
      },
      "execution_count": null,
      "outputs": [
        {
          "output_type": "stream",
          "name": "stdout",
          "text": [
            "9071918059470547895\n"
          ]
        }
      ]
    },
    {
      "cell_type": "markdown",
      "source": [
        "**Data Integrity**: If mutable objects were allowed as keys, changes to the object could lead to inconsistent states within the dictionary. This could cause difficulties in retrieving values associated with those keys."
      ],
      "metadata": {
        "id": "FepCbiJO5f-4"
      }
    },
    {
      "cell_type": "code",
      "source": [
        "my_dict = {\n",
        "    (1, 2): 'Parihar'\n",
        "}\n",
        "\n",
        "# Accessing the value with the same key\n",
        "print(my_dict[(1, 2)])"
      ],
      "metadata": {
        "colab": {
          "base_uri": "https://localhost:8080/"
        },
        "id": "PlCpIX7R5iqB",
        "outputId": "cc6ff0f8-733e-4445-aec0-884a475e6187"
      },
      "execution_count": null,
      "outputs": [
        {
          "output_type": "stream",
          "name": "stdout",
          "text": [
            "Parihar\n"
          ]
        }
      ]
    },
    {
      "cell_type": "markdown",
      "source": [
        "**Consistency**: Immutable keys maintain the consistency of the dictionary structure. Once a key-value pair is added, the key remains unchanged, allowing reliable access and manipulation."
      ],
      "metadata": {
        "id": "VKbKTplY5leO"
      }
    },
    {
      "cell_type": "code",
      "source": [
        "coordinates = {\n",
        "    (0, 0): 'Shivanshu',\n",
        "    (1, 1): 'Singh',\n",
        "    (2, 2): 'Parihar'\n",
        "}\n",
        "\n",
        "# Retrieving values consistently\n",
        "print(coordinates[(0, 0)])\n",
        "print(coordinates[(1, 1)])\n",
        "print(coordinates[(2, 2)])"
      ],
      "metadata": {
        "colab": {
          "base_uri": "https://localhost:8080/"
        },
        "id": "KLKnGNoh5o63",
        "outputId": "4b73e55c-6ef4-408e-a1e0-99bcffc6344a"
      },
      "execution_count": 25,
      "outputs": [
        {
          "output_type": "stream",
          "name": "stdout",
          "text": [
            "Shivanshu\n",
            "Singh\n",
            "Parihar\n"
          ]
        }
      ]
    },
    {
      "cell_type": "markdown",
      "source": [
        "**Preventing Key Conflicts**: Using immutable keys prevents conflicts that could arise from changing key values. If mutable keys were permitted, updating a key might lead to a scenario where two different values are mapped to the same key."
      ],
      "metadata": {
        "id": "SU59iubF5r0n"
      }
    },
    {
      "cell_type": "code",
      "source": [
        "try:\n",
        "    my_dict = {\n",
        "        [1, 2]:\n",
        "    }\n",
        "except TypeError as e:\n",
        "    print(e)"
      ],
      "metadata": {
        "id": "rDZ0YId65ue-",
        "colab": {
          "base_uri": "https://localhost:8080/"
        },
        "outputId": "22956939-e398-49c0-f409-5082e96a9654"
      },
      "execution_count": 29,
      "outputs": [
        {
          "output_type": "stream",
          "name": "stdout",
          "text": [
            "unhashable type: 'list'\n"
          ]
        }
      ]
    },
    {
      "cell_type": "markdown",
      "source": [
        "**Performance Optimization**: The immutability of keys allows Python to optimize operations like lookups and insertions. The hash values remain constant, allowing for faster retrieval."
      ],
      "metadata": {
        "id": "O9weIcs-5xHu"
      }
    },
    {
      "cell_type": "code",
      "source": [
        "my_dict = {\n",
        "    'name': 'Shivanshu',\n",
        "    'age': 24\n",
        "}\n",
        "\n",
        "# Fast lookup using immutable string keys\n",
        "print(my_dict['name'])"
      ],
      "metadata": {
        "id": "vMApqAe850t2",
        "colab": {
          "base_uri": "https://localhost:8080/"
        },
        "outputId": "1110dd23-b332-49b1-d491-ab78b4df2b76"
      },
      "execution_count": 30,
      "outputs": [
        {
          "output_type": "stream",
          "name": "stdout",
          "text": [
            "Shivanshu\n"
          ]
        }
      ]
    }
  ]
}